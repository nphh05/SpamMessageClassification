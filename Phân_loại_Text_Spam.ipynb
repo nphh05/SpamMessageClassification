{
  "cells": [
    {
      "cell_type": "markdown",
      "metadata": {
        "id": "view-in-github",
        "colab_type": "text"
      },
      "source": [
        "<a href=\"https://colab.research.google.com/github/nphh05/SpamMessageClassification/blob/main/Ph%C3%A2n_lo%E1%BA%A1i_Text_Spam.ipynb\" target=\"_parent\"><img src=\"https://colab.research.google.com/assets/colab-badge.svg\" alt=\"Open In Colab\"/></a>"
      ]
    },
    {
      "cell_type": "code",
      "execution_count": 73,
      "metadata": {
        "colab": {
          "base_uri": "https://localhost:8080/"
        },
        "collapsed": true,
        "id": "43QYb5xam4oc",
        "outputId": "4a841dae-5b45-41f0-8400-1eae712ba614"
      },
      "outputs": [
        {
          "output_type": "stream",
          "name": "stderr",
          "text": [
            "[nltk_data] Downloading package punkt to /root/nltk_data...\n",
            "[nltk_data]   Package punkt is already up-to-date!\n",
            "[nltk_data] Downloading package punkt_tab to /root/nltk_data...\n",
            "[nltk_data]   Package punkt_tab is already up-to-date!\n"
          ]
        }
      ],
      "source": [
        "import numpy as np\n",
        "import pandas as pd\n",
        "from sklearn.model_selection import train_test_split,cross_val_score,learning_curve, validation_curve\n",
        "from sklearn.feature_extraction.text import TfidfVectorizer\n",
        "from sklearn import svm, naive_bayes,metrics\n",
        "from sklearn.svm import LinearSVC\n",
        "import matplotlib.pyplot as plt\n",
        "from sklearn.metrics import confusion_matrix, accuracy_score,f1_score, precision_score, recall_score\n",
        "from nltk.stem import LancasterStemmer\n",
        "import nltk\n",
        "nltk.download(\"punkt\")\n",
        "nltk.download('punkt_tab')\n",
        "from nltk.tokenize import word_tokenize\n",
        "from sklearn.model_selection import train_test_split as ttsplit\n",
        "import pickle\n",
        "from sklearn.linear_model import LogisticRegression\n",
        "from sklearn.naive_bayes import MultinomialNB,GaussianNB\n",
        "import re # Import the 're' module for regular expressions\n",
        "import string\n",
        "from collections import Counter # Import the Counter class\n",
        "from sklearn.metrics import classification_report # Import the classification_report function\n",
        "from sklearn.svm import SVC # Import SVC explicitly\n",
        "import os\n",
        "import subprocess\n",
        "import threading # Import the threading module\n",
        "import time # Import the time module\n",
        "from nltk.corpus import stopwords\n",
        "from nltk.stem import WordNetLemmatizer # Import WordNetLemmatizer\n",
        "import joblib\n",
        "from sklearn.metrics import accuracy_score"
      ]
    },
    {
      "cell_type": "code",
      "execution_count": 74,
      "metadata": {
        "colab": {
          "base_uri": "https://localhost:8080/"
        },
        "id": "budl3ciCm9Cy",
        "outputId": "6b6c4f91-9e5f-46b3-d600-db8e5a35230f"
      },
      "outputs": [
        {
          "output_type": "stream",
          "name": "stderr",
          "text": [
            "[nltk_data] Downloading package stopwords to /root/nltk_data...\n",
            "[nltk_data]   Package stopwords is already up-to-date!\n",
            "[nltk_data] Downloading package punkt to /root/nltk_data...\n",
            "[nltk_data]   Package punkt is already up-to-date!\n",
            "[nltk_data] Downloading package omw-1.4 to /root/nltk_data...\n",
            "[nltk_data]   Package omw-1.4 is already up-to-date!\n",
            "[nltk_data] Downloading package wordnet to /root/nltk_data...\n",
            "[nltk_data]   Package wordnet is already up-to-date!\n"
          ]
        }
      ],
      "source": [
        "# Tải bộ dữ liệu\n",
        "nltk.download('stopwords')\n",
        "nltk.download('punkt')\n",
        "nltk.download('omw-1.4')\n",
        "nltk.download('wordnet')\n",
        "\n",
        "df = pd.read_csv(\"spam.csv\", encoding=\"latin-1\")\n",
        "df = df[['v1', 'v2']]\n",
        "df.columns = ['label', 'message']\n",
        "df['label'] = df['label'].map({'ham': 0, 'spam': 1})  # Chuyển thành 0 (ham) và 1 (spam)"
      ]
    },
    {
      "cell_type": "code",
      "execution_count": 75,
      "metadata": {
        "colab": {
          "base_uri": "https://localhost:8080/",
          "height": 522
        },
        "id": "GwxDyRvdnELV",
        "outputId": "5f4eff87-dbc8-479f-bbaa-c9d7c011e214"
      },
      "outputs": [
        {
          "output_type": "stream",
          "name": "stderr",
          "text": [
            "<ipython-input-75-ec1de56faba3>:2: FutureWarning: pandas.value_counts is deprecated and will be removed in a future version. Use pd.Series(obj).value_counts() instead.\n",
            "  count_Class=pd.value_counts(df[\"label\"], sort= True)\n"
          ]
        },
        {
          "output_type": "display_data",
          "data": {
            "text/plain": [
              "<Figure size 640x480 with 1 Axes>"
            ],
            "image/png": "[encoded data removed]"
          },
          "metadata": {}
        }
      ],
      "source": [
        "#Hiện thị thông kê dữ liệu cho dữ liệu cột Lable\n",
        "count_Class=pd.value_counts(df[\"label\"], sort= True)\n",
        "count_Class.plot(kind= 'bar', color= [\"blue\", \"green\"])\n",
        "plt.title('Bar chart')\n",
        "plt.show()"
      ]
    },
    {
      "cell_type": "markdown",
      "source": [
        "\n",
        "\n",
        "```\n",
        "# This is formatted as code\n",
        "```\n",
        "\n",
        "# 1. Tự cài đặt mô hình NB thông thường"
      ],
      "metadata": {
        "id": "92eWeNIhT4l2"
      }
    },
    {
      "cell_type": "markdown",
      "source": [
        "Bước 1: tiền xử lí dữ liệu + tạo heuristic"
      ],
      "metadata": {
        "id": "Q5TcxQQeClhg"
      }
    },
    {
      "cell_type": "code",
      "source": [
        "#Tiền xử lí dữ liệu cho model\n",
        "# === Regex Heuristic ===\n",
        "url_pattern = re.compile(r'http\\S+|www\\.\\S+')\n",
        "phone_pattern = re.compile(r'\\b\\d{9,}\\b')  # Số dài 9 chữ số trở lên\n",
        "money_pattern = re.compile(r'[\\$€₫¥£]')\n",
        "\n",
        "# === Áp dụng Heuristic ===\n",
        "df['has_url'] = df['message'].apply(lambda x: int(bool(url_pattern.search(str(x)))))\n",
        "df['has_phone'] = df['message'].apply(lambda x: int(bool(phone_pattern.search(str(x)))))\n",
        "df['has_money'] = df['message'].apply(lambda x: int(bool(money_pattern.search(str(x)))))\n",
        "lemmatizer = WordNetLemmatizer()\n",
        "stop_words = set(stopwords.words('english'))\n",
        "\n",
        "def advanced_text_cleaning(text, stop_words=None):\n",
        "    if pd.isna(text):\n",
        "        return \"\"\n",
        "\n",
        "    text = str(text).lower()\n",
        "\n",
        "    # 1. Ký tự lặp (aaa, !!!)\n",
        "    #text = re.sub(r'(.)\\1{2,}', r'\\1\\1', text)\n",
        "\n",
        "    # 2. Loại dấu câu (trừ ! ?)\n",
        "    text = re.sub(f\"[{string.punctuation.replace('!', '').replace('?', '')}]\", \" \", text)\n",
        "\n",
        "    # 3. ! và ? → token\n",
        "    text = re.sub(r'!+', ' EXCLAMATION ', text)\n",
        "    text = re.sub(r'\\?+', ' QUESTION ', text)\n",
        "\n",
        "    # 4. Chuẩn hóa khoảng trắng\n",
        "    text = re.sub(r'\\s+', ' ', text).strip()\n",
        "\n",
        "    # 5. Lemmatize + Bỏ stopwords\n",
        "    words = text.split()\n",
        "    cleaned_words = []\n",
        "    for word in words:\n",
        "        if len(word) > 1 and (stop_words is None or word not in stop_words):\n",
        "            cleaned_words.append(lemmatizer.lemmatize(word))\n",
        "\n",
        "    return \" \".join(cleaned_words)\n",
        "df['clean_message'] = df['message'].apply(lambda x: advanced_text_cleaning(x, stop_words=stop_words))"
      ],
      "metadata": {
        "id": "1niR5LjtpvT7"
      },
      "execution_count": 76,
      "outputs": []
    },
    {
      "cell_type": "markdown",
      "source": [
        "Bước 2: Cài đặt TF-IDF"
      ],
      "metadata": {
        "id": "G4_px4MnCr10"
      }
    },
    {
      "cell_type": "code",
      "source": [
        "# Custom TF-IDF Vectorizer implementation with n-grams support\n",
        "# Thuật toán chạy với dữ liệu số hóa\n",
        "class CustomTfidfVectorizer:\n",
        "    def __init__(self, max_features=None, stop_words=None, ngram_range=(1, 1)):\n",
        "        self.max_features = max_features\n",
        "        self.stop_words = stop_words if stop_words else set()\n",
        "        self.ngram_range = ngram_range\n",
        "        self.vocab = {}\n",
        "        self.idf = {}\n",
        "\n",
        "    def _get_ngrams(self, words, n):\n",
        "        \"\"\"Generate n-grams from a list of words.\"\"\"\n",
        "        return [\" \".join(words[i:i+n]) for i in range(len(words) - n + 1)]\n",
        "    def fit(self, documents):\n",
        "        word_counts = Counter()\n",
        "        doc_counts = Counter()\n",
        "        n_docs = len(documents)\n",
        "\n",
        "        for doc in documents:\n",
        "            words = doc.split()\n",
        "            ngrams = []\n",
        "            ngrams_set = set()\n",
        "            for n in range(self.ngram_range[0], self.ngram_range[1] + 1):\n",
        "                if len(words) >= n:\n",
        "                    current_ngrams = self._get_ngrams(words, n)\n",
        "                    ngrams.extend(current_ngrams)  # Đếm tần suất thực tế\n",
        "                    ngrams_set.update(current_ngrams)  # Đếm tần suất tài liệu\n",
        "            word_counts.update(ngrams)  # Cập nhật tần suất xuất hiện\n",
        "            doc_counts.update(ngrams_set)  # Cập nhật tần suất tài liệu\n",
        "\n",
        "        if self.max_features:\n",
        "            word_counts = dict(word_counts.most_common(self.max_features))\n",
        "        else:\n",
        "            word_counts = dict(word_counts)\n",
        "\n",
        "        self.vocab = {word: idx for idx, (word, _) in enumerate(word_counts.items())}\n",
        "\n",
        "        for word in self.vocab:\n",
        "            self.idf[word] = np.log(n_docs / (doc_counts[word] + 1)) + 1\n",
        "\n",
        "        return self\n",
        "\n",
        "    def transform(self, documents):\n",
        "        # Transform documents to TF-IDF matrix\n",
        "        n_docs = len(documents)\n",
        "        n_features = len(self.vocab)\n",
        "        tfidf_matrix = np.zeros((n_docs, n_features))\n",
        "\n",
        "        # Calculate TF-IDF for each document\n",
        "        for i, doc in enumerate(documents):\n",
        "            words = doc.split()\n",
        "            ngrams = []\n",
        "            for n in range(self.ngram_range[0], self.ngram_range[1] + 1):\n",
        "                if len(words) >= n:\n",
        "                    ngrams.extend(self._get_ngrams(words, n))\n",
        "            word_counts = Counter(ngrams)\n",
        "            total_words = len(ngrams)\n",
        "\n",
        "            for word, count in word_counts.items():\n",
        "                if word in self.vocab:\n",
        "                    tf = count / total_words if total_words > 0 else 0  # Term Frequency\n",
        "                    tfidf = tf * self.idf[word]  # TF-IDF\n",
        "                    tfidf_matrix[i, self.vocab[word]] = tfidf\n",
        "\n",
        "        # Normalize each row (L2 normalization)\n",
        "        norms = np.linalg.norm(tfidf_matrix, axis=1, keepdims=True)\n",
        "        norms[norms == 0] = 1  # Avoid division by zero\n",
        "        tfidf_matrix = tfidf_matrix / norms\n",
        "\n",
        "        return tfidf_matrix\n",
        "\n",
        "    def fit_transform(self, documents):\n",
        "        return self.fit(documents).transform(documents)\n",
        "    def get_feature_names_out(self):\n",
        "      return [word for word, _ in sorted(self.vocab.items(), key=lambda item: item[1])]\n"
      ],
      "metadata": {
        "id": "ZjaLTJerpvLq"
      },
      "execution_count": 77,
      "outputs": []
    },
    {
      "cell_type": "markdown",
      "source": [
        "Bước 3: áp dụng TF-IDF vào dữ liệu đã xử lí"
      ],
      "metadata": {
        "id": "o0MAfLABCv6k"
      }
    },
    {
      "cell_type": "code",
      "source": [
        "# Vectorization with TF-IDF\n",
        "vectorizer = CustomTfidfVectorizer(max_features=3000, stop_words=\"english\", ngram_range=(1, 2))\n",
        "X = vectorizer.fit_transform(df['clean_message'])\n",
        "y = df['label']\n",
        "# Tạo DataFrame từ TF-IDF matrix\n",
        "tfidf_df = pd.DataFrame(X, columns=vectorizer.get_feature_names_out())\n",
        "# Thêm nhãn (label)\n",
        "tfidf_df['label'] = y\n",
        "# In full bảng TF-IDF\n",
        "print(tfidf_df)\n",
        "print(type(X))\n"
      ],
      "metadata": {
        "id": "BiOPDvV3pvEL",
        "colab": {
          "base_uri": "https://localhost:8080/"
        },
        "outputId": "42224f03-e510-4296-d374-d99e6d583f45"
      },
      "execution_count": 78,
      "outputs": [
        {
          "output_type": "stream",
          "name": "stdout",
          "text": [
            "      QUESTION  EXCLAMATION      call  get   ur   gt   lt        go        ok  \\\n",
            "0     0.000000     0.000000  0.000000  0.0  0.0  0.0  0.0  0.193540  0.000000   \n",
            "1     0.000000     0.000000  0.000000  0.0  0.0  0.0  0.0  0.000000  0.238774   \n",
            "2     0.000000     0.000000  0.000000  0.0  0.0  0.0  0.0  0.000000  0.000000   \n",
            "3     0.000000     0.000000  0.000000  0.0  0.0  0.0  0.0  0.000000  0.000000   \n",
            "4     0.000000     0.000000  0.000000  0.0  0.0  0.0  0.0  0.255279  0.000000   \n",
            "...        ...          ...       ...  ...  ...  ...  ...       ...       ...   \n",
            "5567  0.000000     0.082878  0.097649  0.0  0.0  0.0  0.0  0.000000  0.000000   \n",
            "5568  0.169756     0.000000  0.000000  0.0  0.0  0.0  0.0  0.000000  0.000000   \n",
            "5569  0.321323     0.000000  0.000000  0.0  0.0  0.0  0.0  0.000000  0.000000   \n",
            "5570  0.000000     0.000000  0.000000  0.0  0.0  0.0  0.0  0.000000  0.000000   \n",
            "5571  0.000000     0.000000  0.000000  0.0  0.0  0.0  0.0  0.000000  0.000000   \n",
            "\n",
            "          free  ...  dont think  perfect  08718727870  enjoyed  dictionary  \\\n",
            "0     0.000000  ...         0.0      0.0          0.0      0.0         0.0   \n",
            "1     0.000000  ...         0.0      0.0          0.0      0.0         0.0   \n",
            "2     0.109905  ...         0.0      0.0          0.0      0.0         0.0   \n",
            "3     0.000000  ...         0.0      0.0          0.0      0.0         0.0   \n",
            "4     0.000000  ...         0.0      0.0          0.0      0.0         0.0   \n",
            "...        ...  ...         ...      ...          ...      ...         ...   \n",
            "5567  0.000000  ...         0.0      0.0          0.0      0.0         0.0   \n",
            "5568  0.000000  ...         0.0      0.0          0.0      0.0         0.0   \n",
            "5569  0.000000  ...         0.0      0.0          0.0      0.0         0.0   \n",
            "5570  0.201373  ...         0.0      0.0          0.0      0.0         0.0   \n",
            "5571  0.000000  ...         0.0      0.0          0.0      0.0         0.0   \n",
            "\n",
            "      leave house  m263uz  chance EXCLAMATION  voucher today  label  \n",
            "0             0.0     0.0                 0.0            0.0      0  \n",
            "1             0.0     0.0                 0.0            0.0      0  \n",
            "2             0.0     0.0                 0.0            0.0      1  \n",
            "3             0.0     0.0                 0.0            0.0      0  \n",
            "4             0.0     0.0                 0.0            0.0      0  \n",
            "...           ...     ...                 ...            ...    ...  \n",
            "5567          0.0     0.0                 0.0            0.0      1  \n",
            "5568          0.0     0.0                 0.0            0.0      0  \n",
            "5569          0.0     0.0                 0.0            0.0      0  \n",
            "5570          0.0     0.0                 0.0            0.0      0  \n",
            "5571          0.0     0.0                 0.0            0.0      0  \n",
            "\n",
            "[5572 rows x 3001 columns]\n",
            "<class 'numpy.ndarray'>\n"
          ]
        }
      ]
    },
    {
      "cell_type": "markdown",
      "source": [
        "Bước 4: Tạo biến lưu kết hợp TF-IDF và Heuristics"
      ],
      "metadata": {
        "id": "Ku4lvaVEC2Fi"
      }
    },
    {
      "cell_type": "code",
      "source": [
        "from scipy import sparse\n",
        "X_heuristic = df[['has_url', 'has_phone', 'has_money']].astype(float).values\n",
        "# Chuyển sang sparse trước khi ghép\n",
        "X_heuristic_sparse = sparse.csr_matrix(X_heuristic)\n",
        "X_features = sparse.hstack([X, X_heuristic_sparse]).tocsr() # Convert to CSR matrix\n",
        "y = df['label'].values  # hoặc .tolist() đều được\n",
        "print(X_features[:10].toarray())  # In 5 dòng đầu"
      ],
      "metadata": {
        "id": "SyfUJLd5Zpro",
        "colab": {
          "base_uri": "https://localhost:8080/"
        },
        "outputId": "8f99dfc4-9cc9-4e07-ec43-89b738c73327"
      },
      "execution_count": 79,
      "outputs": [
        {
          "output_type": "stream",
          "name": "stdout",
          "text": [
            "[[0.         0.         0.         ... 0.         0.         0.        ]\n",
            " [0.         0.         0.         ... 0.         0.         0.        ]\n",
            " [0.         0.         0.         ... 0.         0.         0.        ]\n",
            " ...\n",
            " [0.         0.         0.         ... 0.         0.         0.        ]\n",
            " [0.         0.18022346 0.10617272 ... 0.         1.         1.        ]\n",
            " [0.06726205 0.07460516 0.08790234 ... 0.         1.         0.        ]]\n"
          ]
        }
      ]
    },
    {
      "cell_type": "markdown",
      "source": [
        "Bước 5: Cài đặt NB"
      ],
      "metadata": {
        "id": "ZeZjVBroC-80"
      }
    },
    {
      "cell_type": "code",
      "source": [
        "import numpy as np\n",
        "from sklearn.metrics import accuracy_score\n",
        "\n",
        "class CustomNaiveBayesNumeric:\n",
        "    def __init__(self, alpha=1.0):\n",
        "        self.alpha = alpha\n",
        "        self.class_log_prior_ = None\n",
        "        self.feature_log_prob_ = {}\n",
        "        self.classes_ = None\n",
        "\n",
        "    def fit(self, X, y):\n",
        "        # Chuyển về dạng dense nếu cần\n",
        "        if not isinstance(X, np.ndarray):\n",
        "            X = X.toarray()\n",
        "\n",
        "        self.classes_ = np.unique(y)\n",
        "        n_classes = len(self.classes_)\n",
        "        n_features = X.shape[1]\n",
        "        self.class_log_prior_ = {}\n",
        "        self.feature_log_prob_ = {}\n",
        "\n",
        "        for cls in self.classes_:\n",
        "            X_cls = X[y == cls]\n",
        "            # Tổng số từ trong lớp (tổng các giá trị của tất cả các đặc trưng)\n",
        "            total_count = np.sum(X_cls)\n",
        "            # Tính tổng số lần xuất hiện của từng đặc trưng\n",
        "            feature_count = np.sum(X_cls, axis=0)\n",
        "\n",
        "            # Laplace smoothing\n",
        "            smoothed_fc = feature_count + self.alpha\n",
        "            smoothed_total = total_count + self.alpha * n_features\n",
        "\n",
        "            self.feature_log_prob_[cls] = np.log(smoothed_fc / smoothed_total)\n",
        "            self.class_log_prior_[cls] = np.log(len(X_cls) / len(X))\n",
        "\n",
        "    def predict(self, X):\n",
        "        if not isinstance(X, np.ndarray):\n",
        "            X = X.toarray()\n",
        "\n",
        "        predictions = []\n",
        "        for x in X:\n",
        "            log_probs = {}\n",
        "            for cls in self.classes_:\n",
        "                log_prob = self.class_log_prior_[cls] + np.dot(x, self.feature_log_prob_[cls])\n",
        "                log_probs[cls] = log_prob\n",
        "            predictions.append(max(log_probs, key=log_probs.get))\n",
        "        return np.array(predictions)\n",
        "\n",
        "\n",
        "    def score(self, X, y):\n",
        "        return accuracy_score(y, self.predict(X))\n",
        "\n",
        "    def get_params(self, deep=True):\n",
        "        return {\"alpha\": self.alpha}\n",
        "\n",
        "    def set_params(self, **params):\n",
        "        for k, v in params.items():\n",
        "            setattr(self, k, v)\n",
        "        return self"
      ],
      "metadata": {
        "id": "vmYialP0Uqv_"
      },
      "execution_count": 80,
      "outputs": []
    },
    {
      "cell_type": "markdown",
      "source": [
        "1.1. Chạy mô hình với dữ liệu TF-IDF"
      ],
      "metadata": {
        "id": "ARpTkuQaxw3g"
      }
    },
    {
      "cell_type": "markdown",
      "source": [
        "Bước 1: chia tập dữ liệu chỉ gồm TF-IDF"
      ],
      "metadata": {
        "id": "PpwUmYo7DDJn"
      }
    },
    {
      "cell_type": "code",
      "source": [
        "# Split dataset\n",
        "X_train, X_test, y_train, y_test = train_test_split(X, y, test_size=0.2, random_state=1)"
      ],
      "metadata": {
        "id": "njXSg_JaZ4oX"
      },
      "execution_count": 81,
      "outputs": []
    },
    {
      "cell_type": "markdown",
      "source": [
        "Bước 2: Training"
      ],
      "metadata": {
        "id": "exj5-1oWDI5M"
      }
    },
    {
      "cell_type": "code",
      "source": [
        "# Train Naive Bayes model\n",
        "nb_model = CustomNaiveBayesNumeric(alpha=1.0)\n",
        "nb_model.fit(X_train, y_train)"
      ],
      "metadata": {
        "id": "b9w6WiMEZ-BC"
      },
      "execution_count": 82,
      "outputs": []
    },
    {
      "cell_type": "markdown",
      "source": [
        "Bước 3: Đánh giá kết quả"
      ],
      "metadata": {
        "id": "90GfJzACDMDA"
      }
    },
    {
      "cell_type": "code",
      "source": [
        "#Tính toán các giá trị test\n",
        "Accuracy=accuracy_score(y_test, nb_model.predict(X_test))\n",
        "Precision=precision_score(y_test, nb_model.predict(X_test))\n",
        "Recall=recall_score(y_test, nb_model.predict(X_test))\n",
        "F1_Score=f1_score(y_test, nb_model.predict(X_test))\n",
        "print('Accuracy : {:.2f}%'.format(Accuracy*100))\n",
        "print('Precision : {:.2f}%' .format(Precision*100))\n",
        "print('Recall : {:.2f}%'.format(Recall*100))\n",
        "print('F1-Score : {:.2f}%'.format(F1_Score*100))"
      ],
      "metadata": {
        "colab": {
          "base_uri": "https://localhost:8080/"
        },
        "id": "Ty5Gln5laC_3",
        "outputId": "7eb20449-7a2f-46d4-c97e-fc2cd05b0cde"
      },
      "execution_count": 83,
      "outputs": [
        {
          "output_type": "stream",
          "name": "stdout",
          "text": [
            "Accuracy : 98.48%\n",
            "Precision : 99.19%\n",
            "Recall : 88.49%\n",
            "F1-Score : 93.54%\n"
          ]
        }
      ]
    },
    {
      "cell_type": "code",
      "source": [
        "#Tính toán confusion\n",
        "m_confusion_test = metrics.confusion_matrix(y_test, nb_model.predict(X_test))\n",
        "pd.DataFrame(data = m_confusion_test, columns = ['Dự Đoán (Ham)', 'Dự đoán (Spam)'],\n",
        "            index = ['Thực tế (Ham)', 'Thực tế (Spam)'])"
      ],
      "metadata": {
        "colab": {
          "base_uri": "https://localhost:8080/",
          "height": 112
        },
        "id": "OLcjNgxfqED7",
        "outputId": "9a4c6c00-2211-434b-8e02-2fbee86c9ef6"
      },
      "execution_count": 84,
      "outputs": [
        {
          "output_type": "execute_result",
          "data": {
            "text/plain": [
              "                Dự Đoán (Ham)  Dự đoán (Spam)\n",
              "Thực tế (Ham)             975               1\n",
              "Thực tế (Spam)             16             123"
            ],
            "text/html": [
              "\n",
              "  <div id=\"df-5f645492-2c83-4207-95da-0c307b42c8b1\" class=\"colab-df-container\">\n",
              "    <div>\n",
              "<style scoped>\n",
              "    .dataframe tbody tr th:only-of-type {\n",
              "        vertical-align: middle;\n",
              "    }\n",
              "\n",
              "    .dataframe tbody tr th {\n",
              "        vertical-align: top;\n",
              "    }\n",
              "\n",
              "    .dataframe thead th {\n",
              "        text-align: right;\n",
              "    }\n",
              "</style>\n",
              "<table border=\"1\" class=\"dataframe\">\n",
              "  <thead>\n",
              "    <tr style=\"text-align: right;\">\n",
              "      <th></th>\n",
              "      <th>Dự Đoán (Ham)</th>\n",
              "      <th>Dự đoán (Spam)</th>\n",
              "    </tr>\n",
              "  </thead>\n",
              "  <tbody>\n",
              "    <tr>\n",
              "      <th>Thực tế (Ham)</th>\n",
              "      <td>975</td>\n",
              "      <td>1</td>\n",
              "    </tr>\n",
              "    <tr>\n",
              "      <th>Thực tế (Spam)</th>\n",
              "      <td>16</td>\n",
              "      <td>123</td>\n",
              "    </tr>\n",
              "  </tbody>\n",
              "</table>\n",
              "</div>\n",
              "    <div class=\"colab-df-buttons\">\n",
              "\n",
              "  <div class=\"colab-df-container\">\n",
              "    <button class=\"colab-df-convert\" onclick=\"convertToInteractive('df-5f645492-2c83-4207-95da-0c307b42c8b1')\"\n",
              "            title=\"Convert this dataframe to an interactive table.\"\n",
              "            style=\"display:none;\">\n",
              "\n",
              "  <svg xmlns=\"http://www.w3.org/2000/svg\" height=\"24px\" viewBox=\"0 -960 960 960\">\n",
              "    <path d=\"M120-120v-720h720v720H120Zm60-500h600v-160H180v160Zm220 220h160v-160H400v160Zm0 220h160v-160H400v160ZM180-400h160v-160H180v160Zm440 0h160v-160H620v160ZM180-180h160v-160H180v160Zm440 0h160v-160H620v160Z\"/>\n",
              "  </svg>\n",
              "    </button>\n",
              "\n",
              "  <style>\n",
              "    .colab-df-container {\n",
              "      display:flex;\n",
              "      gap: 12px;\n",
              "    }\n",
              "\n",
              "    .colab-df-convert {\n",
              "      background-color: #E8F0FE;\n",
              "      border: none;\n",
              "      border-radius: 50%;\n",
              "      cursor: pointer;\n",
              "      display: none;\n",
              "      fill: #1967D2;\n",
              "      height: 32px;\n",
              "      padding: 0 0 0 0;\n",
              "      width: 32px;\n",
              "    }\n",
              "\n",
              "    .colab-df-convert:hover {\n",
              "      background-color: #E2EBFA;\n",
              "      box-shadow: 0px 1px 2px rgba(60, 64, 67, 0.3), 0px 1px 3px 1px rgba(60, 64, 67, 0.15);\n",
              "      fill: #174EA6;\n",
              "    }\n",
              "\n",
              "    .colab-df-buttons div {\n",
              "      margin-bottom: 4px;\n",
              "    }\n",
              "\n",
              "    [theme=dark] .colab-df-convert {\n",
              "      background-color: #3B4455;\n",
              "      fill: #D2E3FC;\n",
              "    }\n",
              "\n",
              "    [theme=dark] .colab-df-convert:hover {\n",
              "      background-color: #434B5C;\n",
              "      box-shadow: 0px 1px 3px 1px rgba(0, 0, 0, 0.15);\n",
              "      filter: drop-shadow(0px 1px 2px rgba(0, 0, 0, 0.3));\n",
              "      fill: #FFFFFF;\n",
              "    }\n",
              "  </style>\n",
              "\n",
              "    <script>\n",
              "      const buttonEl =\n",
              "        document.querySelector('#df-5f645492-2c83-4207-95da-0c307b42c8b1 button.colab-df-convert');\n",
              "      buttonEl.style.display =\n",
              "        google.colab.kernel.accessAllowed ? 'block' : 'none';\n",
              "\n",
              "      async function convertToInteractive(key) {\n",
              "        const element = document.querySelector('#df-5f645492-2c83-4207-95da-0c307b42c8b1');\n",
              "        const dataTable =\n",
              "          await google.colab.kernel.invokeFunction('convertToInteractive',\n",
              "                                                    [key], {});\n",
              "        if (!dataTable) return;\n",
              "\n",
              "        const docLinkHtml = 'Like what you see? Visit the ' +\n",
              "          '<a target=\"_blank\" href=https://colab.research.google.com/notebooks/data_table.ipynb>data table notebook</a>'\n",
              "          + ' to learn more about interactive tables.';\n",
              "        element.innerHTML = '';\n",
              "        dataTable['output_type'] = 'display_data';\n",
              "        await google.colab.output.renderOutput(dataTable, element);\n",
              "        const docLink = document.createElement('div');\n",
              "        docLink.innerHTML = docLinkHtml;\n",
              "        element.appendChild(docLink);\n",
              "      }\n",
              "    </script>\n",
              "  </div>\n",
              "\n",
              "\n",
              "    <div id=\"df-17b3e92b-6381-4bf8-b9b6-923cafb75b9f\">\n",
              "      <button class=\"colab-df-quickchart\" onclick=\"quickchart('df-17b3e92b-6381-4bf8-b9b6-923cafb75b9f')\"\n",
              "                title=\"Suggest charts\"\n",
              "                style=\"display:none;\">\n",
              "\n",
              "<svg xmlns=\"http://www.w3.org/2000/svg\" height=\"24px\"viewBox=\"0 0 24 24\"\n",
              "     width=\"24px\">\n",
              "    <g>\n",
              "        <path d=\"M19 3H5c-1.1 0-2 .9-2 2v14c0 1.1.9 2 2 2h14c1.1 0 2-.9 2-2V5c0-1.1-.9-2-2-2zM9 17H7v-7h2v7zm4 0h-2V7h2v10zm4 0h-2v-4h2v4z\"/>\n",
              "    </g>\n",
              "</svg>\n",
              "      </button>\n",
              "\n",
              "<style>\n",
              "  .colab-df-quickchart {\n",
              "      --bg-color: #E8F0FE;\n",
              "      --fill-color: #1967D2;\n",
              "      --hover-bg-color: #E2EBFA;\n",
              "      --hover-fill-color: #174EA6;\n",
              "      --disabled-fill-color: #AAA;\n",
              "      --disabled-bg-color: #DDD;\n",
              "  }\n",
              "\n",
              "  [theme=dark] .colab-df-quickchart {\n",
              "      --bg-color: #3B4455;\n",
              "      --fill-color: #D2E3FC;\n",
              "      --hover-bg-color: #434B5C;\n",
              "      --hover-fill-color: #FFFFFF;\n",
              "      --disabled-bg-color: #3B4455;\n",
              "      --disabled-fill-color: #666;\n",
              "  }\n",
              "\n",
              "  .colab-df-quickchart {\n",
              "    background-color: var(--bg-color);\n",
              "    border: none;\n",
              "    border-radius: 50%;\n",
              "    cursor: pointer;\n",
              "    display: none;\n",
              "    fill: var(--fill-color);\n",
              "    height: 32px;\n",
              "    padding: 0;\n",
              "    width: 32px;\n",
              "  }\n",
              "\n",
              "  .colab-df-quickchart:hover {\n",
              "    background-color: var(--hover-bg-color);\n",
              "    box-shadow: 0 1px 2px rgba(60, 64, 67, 0.3), 0 1px 3px 1px rgba(60, 64, 67, 0.15);\n",
              "    fill: var(--button-hover-fill-color);\n",
              "  }\n",
              "\n",
              "  .colab-df-quickchart-complete:disabled,\n",
              "  .colab-df-quickchart-complete:disabled:hover {\n",
              "    background-color: var(--disabled-bg-color);\n",
              "    fill: var(--disabled-fill-color);\n",
              "    box-shadow: none;\n",
              "  }\n",
              "\n",
              "  .colab-df-spinner {\n",
              "    border: 2px solid var(--fill-color);\n",
              "    border-color: transparent;\n",
              "    border-bottom-color: var(--fill-color);\n",
              "    animation:\n",
              "      spin 1s steps(1) infinite;\n",
              "  }\n",
              "\n",
              "  @keyframes spin {\n",
              "    0% {\n",
              "      border-color: transparent;\n",
              "      border-bottom-color: var(--fill-color);\n",
              "      border-left-color: var(--fill-color);\n",
              "    }\n",
              "    20% {\n",
              "      border-color: transparent;\n",
              "      border-left-color: var(--fill-color);\n",
              "      border-top-color: var(--fill-color);\n",
              "    }\n",
              "    30% {\n",
              "      border-color: transparent;\n",
              "      border-left-color: var(--fill-color);\n",
              "      border-top-color: var(--fill-color);\n",
              "      border-right-color: var(--fill-color);\n",
              "    }\n",
              "    40% {\n",
              "      border-color: transparent;\n",
              "      border-right-color: var(--fill-color);\n",
              "      border-top-color: var(--fill-color);\n",
              "    }\n",
              "    60% {\n",
              "      border-color: transparent;\n",
              "      border-right-color: var(--fill-color);\n",
              "    }\n",
              "    80% {\n",
              "      border-color: transparent;\n",
              "      border-right-color: var(--fill-color);\n",
              "      border-bottom-color: var(--fill-color);\n",
              "    }\n",
              "    90% {\n",
              "      border-color: transparent;\n",
              "      border-bottom-color: var(--fill-color);\n",
              "    }\n",
              "  }\n",
              "</style>\n",
              "\n",
              "      <script>\n",
              "        async function quickchart(key) {\n",
              "          const quickchartButtonEl =\n",
              "            document.querySelector('#' + key + ' button');\n",
              "          quickchartButtonEl.disabled = true;  // To prevent multiple clicks.\n",
              "          quickchartButtonEl.classList.add('colab-df-spinner');\n",
              "          try {\n",
              "            const charts = await google.colab.kernel.invokeFunction(\n",
              "                'suggestCharts', [key], {});\n",
              "          } catch (error) {\n",
              "            console.error('Error during call to suggestCharts:', error);\n",
              "          }\n",
              "          quickchartButtonEl.classList.remove('colab-df-spinner');\n",
              "          quickchartButtonEl.classList.add('colab-df-quickchart-complete');\n",
              "        }\n",
              "        (() => {\n",
              "          let quickchartButtonEl =\n",
              "            document.querySelector('#df-17b3e92b-6381-4bf8-b9b6-923cafb75b9f button');\n",
              "          quickchartButtonEl.style.display =\n",
              "            google.colab.kernel.accessAllowed ? 'block' : 'none';\n",
              "        })();\n",
              "      </script>\n",
              "    </div>\n",
              "\n",
              "    </div>\n",
              "  </div>\n"
            ],
            "application/vnd.google.colaboratory.intrinsic+json": {
              "type": "dataframe",
              "summary": "{\n  \"name\": \"            index = ['Th\\u1ef1c t\\u1ebf (Ham)', 'Th\\u1ef1c t\\u1ebf (Spam)'])\",\n  \"rows\": 2,\n  \"fields\": [\n    {\n      \"column\": \"D\\u1ef1 \\u0110o\\u00e1n (Ham)\",\n      \"properties\": {\n        \"dtype\": \"number\",\n        \"std\": 678,\n        \"min\": 16,\n        \"max\": 975,\n        \"num_unique_values\": 2,\n        \"samples\": [\n          16,\n          975\n        ],\n        \"semantic_type\": \"\",\n        \"description\": \"\"\n      }\n    },\n    {\n      \"column\": \"D\\u1ef1 \\u0111o\\u00e1n (Spam)\",\n      \"properties\": {\n        \"dtype\": \"number\",\n        \"std\": 86,\n        \"min\": 1,\n        \"max\": 123,\n        \"num_unique_values\": 2,\n        \"samples\": [\n          123,\n          1\n        ],\n        \"semantic_type\": \"\",\n        \"description\": \"\"\n      }\n    }\n  ]\n}"
            }
          },
          "metadata": {},
          "execution_count": 84
        }
      ]
    },
    {
      "cell_type": "code",
      "source": [
        "# Predict with Naive Bayes\n",
        "y_pred_nb = nb_model.predict(X_test)\n",
        "print(\"Naive Bayes Accuracy:\", accuracy_score(y_test, y_pred_nb))\n",
        "print(classification_report(y_test, y_pred_nb))"
      ],
      "metadata": {
        "colab": {
          "base_uri": "https://localhost:8080/"
        },
        "id": "AS94KyHYqHJk",
        "outputId": "167296cb-21fb-411e-94ba-5904a413ec72"
      },
      "execution_count": 85,
      "outputs": [
        {
          "output_type": "stream",
          "name": "stdout",
          "text": [
            "Naive Bayes Accuracy: 0.9847533632286996\n",
            "              precision    recall  f1-score   support\n",
            "\n",
            "           0       0.98      1.00      0.99       976\n",
            "           1       0.99      0.88      0.94       139\n",
            "\n",
            "    accuracy                           0.98      1115\n",
            "   macro avg       0.99      0.94      0.96      1115\n",
            "weighted avg       0.98      0.98      0.98      1115\n",
            "\n"
          ]
        }
      ]
    },
    {
      "cell_type": "code",
      "source": [
        "from sklearn.model_selection import learning_curve\n",
        "import numpy as np\n",
        "import matplotlib.pyplot as plt\n",
        "\n",
        "# Xác định các kích thước tập huấn luyện\n",
        "train_sizes = np.linspace(0.1, 1.0, 10)\n",
        "\n",
        "# Tính toán dữ liệu learning curve\n",
        "train_sizes, train_scores, val_scores = learning_curve(\n",
        "    nb_model, X_train, y_train, train_sizes=train_sizes, cv=5, scoring='f1'\n",
        ")\n",
        "\n",
        "# Tính giá trị trung bình và độ lệch chuẩn\n",
        "train_scores_mean = np.mean(train_scores, axis=1)\n",
        "train_scores_std = np.std(train_scores, axis=1)\n",
        "val_scores_mean = np.mean(val_scores, axis=1)\n",
        "val_scores_std = np.std(val_scores, axis=1)\n",
        "\n",
        "# Vẽ biểu đồ learning curve\n",
        "plt.figure()\n",
        "plt.title('Learning Curve for TF-IDF')\n",
        "plt.xlabel('Number of Training Examples')\n",
        "plt.ylabel('F1-score')\n",
        "plt.grid()\n",
        "\n",
        "plt.fill_between(train_sizes, train_scores_mean - train_scores_std,\n",
        "                 train_scores_mean + train_scores_std, alpha=0.1, color=\"r\")\n",
        "plt.fill_between(train_sizes, val_scores_mean - val_scores_std,\n",
        "                 val_scores_mean + val_scores_std, alpha=0.1, color=\"g\")\n",
        "plt.plot(train_sizes, train_scores_mean, 'o-', color=\"r\", label=\"Training score\")\n",
        "plt.plot(train_sizes, val_scores_mean, 'o-', color=\"g\", label=\"Cross-validation score\")\n",
        "\n",
        "plt.legend(loc=\"best\")\n",
        "plt.show()"
      ],
      "metadata": {
        "colab": {
          "base_uri": "https://localhost:8080/",
          "height": 472
        },
        "id": "Fpld9snurjRB",
        "outputId": "c11bde06-95b9-4943-de88-0980e2baa987"
      },
      "execution_count": 86,
      "outputs": [
        {
          "output_type": "display_data",
          "data": {
            "text/plain": [
              "<Figure size 640x480 with 1 Axes>"
            ],
            "image/png": "[encoded data removed]"
          },
          "metadata": {}
        }
      ]
    },
    {
      "cell_type": "markdown",
      "source": [
        "1.2. Chạy mô hình với dữ liệu TF-IDF kết hợp các Heuristics\n",
        "\n"
      ],
      "metadata": {
        "id": "Ah_O9tJpx46J"
      }
    },
    {
      "cell_type": "code",
      "source": [
        "# Split dataset\n",
        "X_train_1, X_test_1, y_train_1, y_test_1 = train_test_split(X_features, y, test_size=0.2, random_state=1)"
      ],
      "metadata": {
        "id": "hhf0Ogodx9tP"
      },
      "execution_count": 87,
      "outputs": []
    },
    {
      "cell_type": "code",
      "source": [
        "# Train Naive Bayes model\n",
        "nb_model_1 = CustomNaiveBayesNumeric(alpha=1.0)\n",
        "nb_model_1.fit(X_train_1, y_train_1)"
      ],
      "metadata": {
        "id": "DegqsKvFyAQ9"
      },
      "execution_count": 88,
      "outputs": []
    },
    {
      "cell_type": "code",
      "source": [
        "#Tính toán các giá trị test\n",
        "Accuracy=accuracy_score(y_test_1, nb_model_1.predict(X_test_1))\n",
        "Precision=precision_score(y_test_1, nb_model_1.predict(X_test_1))\n",
        "Recall=recall_score(y_test_1, nb_model_1.predict(X_test_1))\n",
        "F1_Score=f1_score(y_test_1, nb_model_1.predict(X_test_1))\n",
        "print('Accuracy : {:.2f}%'.format(Accuracy*100))\n",
        "print('Precision : {:.2f}%' .format(Precision*100))\n",
        "print('Recall : {:.2f}%'.format(Recall*100))\n",
        "print('F1-Score : {:.2f}%'.format(F1_Score*100))"
      ],
      "metadata": {
        "colab": {
          "base_uri": "https://localhost:8080/"
        },
        "id": "DK0O8AVRyFvG",
        "outputId": "69f5be8f-18ed-4191-afa5-024d600cf73b"
      },
      "execution_count": 89,
      "outputs": [
        {
          "output_type": "stream",
          "name": "stdout",
          "text": [
            "Accuracy : 98.83%\n",
            "Precision : 97.73%\n",
            "Recall : 92.81%\n",
            "F1-Score : 95.20%\n"
          ]
        }
      ]
    },
    {
      "cell_type": "code",
      "source": [
        "#Tính toán confusion\n",
        "m_confusion_test = metrics.confusion_matrix(y_test_1, nb_model_1.predict(X_test_1))\n",
        "pd.DataFrame(data = m_confusion_test, columns = ['Dự Đoán (Ham)', 'Dự đoán (Spam)'],\n",
        "            index = ['Thực tế (Ham)', 'Thực tế (Spam)'])"
      ],
      "metadata": {
        "colab": {
          "base_uri": "https://localhost:8080/",
          "height": 112
        },
        "id": "FO_AOXkGyIE_",
        "outputId": "cead7d43-6b36-4ba5-a1b7-dfc7672036b0"
      },
      "execution_count": 90,
      "outputs": [
        {
          "output_type": "execute_result",
          "data": {
            "text/plain": [
              "                Dự Đoán (Ham)  Dự đoán (Spam)\n",
              "Thực tế (Ham)             973               3\n",
              "Thực tế (Spam)             10             129"
            ],
            "text/html": [
              "\n",
              "  <div id=\"df-8bc297c0-99e1-4f7d-ad3c-6477ec7b5f35\" class=\"colab-df-container\">\n",
              "    <div>\n",
              "<style scoped>\n",
              "    .dataframe tbody tr th:only-of-type {\n",
              "        vertical-align: middle;\n",
              "    }\n",
              "\n",
              "    .dataframe tbody tr th {\n",
              "        vertical-align: top;\n",
              "    }\n",
              "\n",
              "    .dataframe thead th {\n",
              "        text-align: right;\n",
              "    }\n",
              "</style>\n",
              "<table border=\"1\" class=\"dataframe\">\n",
              "  <thead>\n",
              "    <tr style=\"text-align: right;\">\n",
              "      <th></th>\n",
              "      <th>Dự Đoán (Ham)</th>\n",
              "      <th>Dự đoán (Spam)</th>\n",
              "    </tr>\n",
              "  </thead>\n",
              "  <tbody>\n",
              "    <tr>\n",
              "      <th>Thực tế (Ham)</th>\n",
              "      <td>973</td>\n",
              "      <td>3</td>\n",
              "    </tr>\n",
              "    <tr>\n",
              "      <th>Thực tế (Spam)</th>\n",
              "      <td>10</td>\n",
              "      <td>129</td>\n",
              "    </tr>\n",
              "  </tbody>\n",
              "</table>\n",
              "</div>\n",
              "    <div class=\"colab-df-buttons\">\n",
              "\n",
              "  <div class=\"colab-df-container\">\n",
              "    <button class=\"colab-df-convert\" onclick=\"convertToInteractive('df-8bc297c0-99e1-4f7d-ad3c-6477ec7b5f35')\"\n",
              "            title=\"Convert this dataframe to an interactive table.\"\n",
              "            style=\"display:none;\">\n",
              "\n",
              "  <svg xmlns=\"http://www.w3.org/2000/svg\" height=\"24px\" viewBox=\"0 -960 960 960\">\n",
              "    <path d=\"M120-120v-720h720v720H120Zm60-500h600v-160H180v160Zm220 220h160v-160H400v160Zm0 220h160v-160H400v160ZM180-400h160v-160H180v160Zm440 0h160v-160H620v160ZM180-180h160v-160H180v160Zm440 0h160v-160H620v160Z\"/>\n",
              "  </svg>\n",
              "    </button>\n",
              "\n",
              "  <style>\n",
              "    .colab-df-container {\n",
              "      display:flex;\n",
              "      gap: 12px;\n",
              "    }\n",
              "\n",
              "    .colab-df-convert {\n",
              "      background-color: #E8F0FE;\n",
              "      border: none;\n",
              "      border-radius: 50%;\n",
              "      cursor: pointer;\n",
              "      display: none;\n",
              "      fill: #1967D2;\n",
              "      height: 32px;\n",
              "      padding: 0 0 0 0;\n",
              "      width: 32px;\n",
              "    }\n",
              "\n",
              "    .colab-df-convert:hover {\n",
              "      background-color: #E2EBFA;\n",
              "      box-shadow: 0px 1px 2px rgba(60, 64, 67, 0.3), 0px 1px 3px 1px rgba(60, 64, 67, 0.15);\n",
              "      fill: #174EA6;\n",
              "    }\n",
              "\n",
              "    .colab-df-buttons div {\n",
              "      margin-bottom: 4px;\n",
              "    }\n",
              "\n",
              "    [theme=dark] .colab-df-convert {\n",
              "      background-color: #3B4455;\n",
              "      fill: #D2E3FC;\n",
              "    }\n",
              "\n",
              "    [theme=dark] .colab-df-convert:hover {\n",
              "      background-color: #434B5C;\n",
              "      box-shadow: 0px 1px 3px 1px rgba(0, 0, 0, 0.15);\n",
              "      filter: drop-shadow(0px 1px 2px rgba(0, 0, 0, 0.3));\n",
              "      fill: #FFFFFF;\n",
              "    }\n",
              "  </style>\n",
              "\n",
              "    <script>\n",
              "      const buttonEl =\n",
              "        document.querySelector('#df-8bc297c0-99e1-4f7d-ad3c-6477ec7b5f35 button.colab-df-convert');\n",
              "      buttonEl.style.display =\n",
              "        google.colab.kernel.accessAllowed ? 'block' : 'none';\n",
              "\n",
              "      async function convertToInteractive(key) {\n",
              "        const element = document.querySelector('#df-8bc297c0-99e1-4f7d-ad3c-6477ec7b5f35');\n",
              "        const dataTable =\n",
              "          await google.colab.kernel.invokeFunction('convertToInteractive',\n",
              "                                                    [key], {});\n",
              "        if (!dataTable) return;\n",
              "\n",
              "        const docLinkHtml = 'Like what you see? Visit the ' +\n",
              "          '<a target=\"_blank\" href=https://colab.research.google.com/notebooks/data_table.ipynb>data table notebook</a>'\n",
              "          + ' to learn more about interactive tables.';\n",
              "        element.innerHTML = '';\n",
              "        dataTable['output_type'] = 'display_data';\n",
              "        await google.colab.output.renderOutput(dataTable, element);\n",
              "        const docLink = document.createElement('div');\n",
              "        docLink.innerHTML = docLinkHtml;\n",
              "        element.appendChild(docLink);\n",
              "      }\n",
              "    </script>\n",
              "  </div>\n",
              "\n",
              "\n",
              "    <div id=\"df-af92a075-c131-4650-96f3-9fe093080fd1\">\n",
              "      <button class=\"colab-df-quickchart\" onclick=\"quickchart('df-af92a075-c131-4650-96f3-9fe093080fd1')\"\n",
              "                title=\"Suggest charts\"\n",
              "                style=\"display:none;\">\n",
              "\n",
              "<svg xmlns=\"http://www.w3.org/2000/svg\" height=\"24px\"viewBox=\"0 0 24 24\"\n",
              "     width=\"24px\">\n",
              "    <g>\n",
              "        <path d=\"M19 3H5c-1.1 0-2 .9-2 2v14c0 1.1.9 2 2 2h14c1.1 0 2-.9 2-2V5c0-1.1-.9-2-2-2zM9 17H7v-7h2v7zm4 0h-2V7h2v10zm4 0h-2v-4h2v4z\"/>\n",
              "    </g>\n",
              "</svg>\n",
              "      </button>\n",
              "\n",
              "<style>\n",
              "  .colab-df-quickchart {\n",
              "      --bg-color: #E8F0FE;\n",
              "      --fill-color: #1967D2;\n",
              "      --hover-bg-color: #E2EBFA;\n",
              "      --hover-fill-color: #174EA6;\n",
              "      --disabled-fill-color: #AAA;\n",
              "      --disabled-bg-color: #DDD;\n",
              "  }\n",
              "\n",
              "  [theme=dark] .colab-df-quickchart {\n",
              "      --bg-color: #3B4455;\n",
              "      --fill-color: #D2E3FC;\n",
              "      --hover-bg-color: #434B5C;\n",
              "      --hover-fill-color: #FFFFFF;\n",
              "      --disabled-bg-color: #3B4455;\n",
              "      --disabled-fill-color: #666;\n",
              "  }\n",
              "\n",
              "  .colab-df-quickchart {\n",
              "    background-color: var(--bg-color);\n",
              "    border: none;\n",
              "    border-radius: 50%;\n",
              "    cursor: pointer;\n",
              "    display: none;\n",
              "    fill: var(--fill-color);\n",
              "    height: 32px;\n",
              "    padding: 0;\n",
              "    width: 32px;\n",
              "  }\n",
              "\n",
              "  .colab-df-quickchart:hover {\n",
              "    background-color: var(--hover-bg-color);\n",
              "    box-shadow: 0 1px 2px rgba(60, 64, 67, 0.3), 0 1px 3px 1px rgba(60, 64, 67, 0.15);\n",
              "    fill: var(--button-hover-fill-color);\n",
              "  }\n",
              "\n",
              "  .colab-df-quickchart-complete:disabled,\n",
              "  .colab-df-quickchart-complete:disabled:hover {\n",
              "    background-color: var(--disabled-bg-color);\n",
              "    fill: var(--disabled-fill-color);\n",
              "    box-shadow: none;\n",
              "  }\n",
              "\n",
              "  .colab-df-spinner {\n",
              "    border: 2px solid var(--fill-color);\n",
              "    border-color: transparent;\n",
              "    border-bottom-color: var(--fill-color);\n",
              "    animation:\n",
              "      spin 1s steps(1) infinite;\n",
              "  }\n",
              "\n",
              "  @keyframes spin {\n",
              "    0% {\n",
              "      border-color: transparent;\n",
              "      border-bottom-color: var(--fill-color);\n",
              "      border-left-color: var(--fill-color);\n",
              "    }\n",
              "    20% {\n",
              "      border-color: transparent;\n",
              "      border-left-color: var(--fill-color);\n",
              "      border-top-color: var(--fill-color);\n",
              "    }\n",
              "    30% {\n",
              "      border-color: transparent;\n",
              "      border-left-color: var(--fill-color);\n",
              "      border-top-color: var(--fill-color);\n",
              "      border-right-color: var(--fill-color);\n",
              "    }\n",
              "    40% {\n",
              "      border-color: transparent;\n",
              "      border-right-color: var(--fill-color);\n",
              "      border-top-color: var(--fill-color);\n",
              "    }\n",
              "    60% {\n",
              "      border-color: transparent;\n",
              "      border-right-color: var(--fill-color);\n",
              "    }\n",
              "    80% {\n",
              "      border-color: transparent;\n",
              "      border-right-color: var(--fill-color);\n",
              "      border-bottom-color: var(--fill-color);\n",
              "    }\n",
              "    90% {\n",
              "      border-color: transparent;\n",
              "      border-bottom-color: var(--fill-color);\n",
              "    }\n",
              "  }\n",
              "</style>\n",
              "\n",
              "      <script>\n",
              "        async function quickchart(key) {\n",
              "          const quickchartButtonEl =\n",
              "            document.querySelector('#' + key + ' button');\n",
              "          quickchartButtonEl.disabled = true;  // To prevent multiple clicks.\n",
              "          quickchartButtonEl.classList.add('colab-df-spinner');\n",
              "          try {\n",
              "            const charts = await google.colab.kernel.invokeFunction(\n",
              "                'suggestCharts', [key], {});\n",
              "          } catch (error) {\n",
              "            console.error('Error during call to suggestCharts:', error);\n",
              "          }\n",
              "          quickchartButtonEl.classList.remove('colab-df-spinner');\n",
              "          quickchartButtonEl.classList.add('colab-df-quickchart-complete');\n",
              "        }\n",
              "        (() => {\n",
              "          let quickchartButtonEl =\n",
              "            document.querySelector('#df-af92a075-c131-4650-96f3-9fe093080fd1 button');\n",
              "          quickchartButtonEl.style.display =\n",
              "            google.colab.kernel.accessAllowed ? 'block' : 'none';\n",
              "        })();\n",
              "      </script>\n",
              "    </div>\n",
              "\n",
              "    </div>\n",
              "  </div>\n"
            ],
            "application/vnd.google.colaboratory.intrinsic+json": {
              "type": "dataframe",
              "summary": "{\n  \"name\": \"            index = ['Th\\u1ef1c t\\u1ebf (Ham)', 'Th\\u1ef1c t\\u1ebf (Spam)'])\",\n  \"rows\": 2,\n  \"fields\": [\n    {\n      \"column\": \"D\\u1ef1 \\u0110o\\u00e1n (Ham)\",\n      \"properties\": {\n        \"dtype\": \"number\",\n        \"std\": 680,\n        \"min\": 10,\n        \"max\": 973,\n        \"num_unique_values\": 2,\n        \"samples\": [\n          10,\n          973\n        ],\n        \"semantic_type\": \"\",\n        \"description\": \"\"\n      }\n    },\n    {\n      \"column\": \"D\\u1ef1 \\u0111o\\u00e1n (Spam)\",\n      \"properties\": {\n        \"dtype\": \"number\",\n        \"std\": 89,\n        \"min\": 3,\n        \"max\": 129,\n        \"num_unique_values\": 2,\n        \"samples\": [\n          129,\n          3\n        ],\n        \"semantic_type\": \"\",\n        \"description\": \"\"\n      }\n    }\n  ]\n}"
            }
          },
          "metadata": {},
          "execution_count": 90
        }
      ]
    },
    {
      "cell_type": "code",
      "source": [
        "# Predict with Naive Bayes\n",
        "y_pred_nb = nb_model_1.predict(X_test_1)\n",
        "print(\"Naive Bayes Accuracy:\", accuracy_score(y_test_1, y_pred_nb))\n",
        "print(classification_report(y_test_1, y_pred_nb))"
      ],
      "metadata": {
        "colab": {
          "base_uri": "https://localhost:8080/"
        },
        "id": "f6OLLCasyIr4",
        "outputId": "653a61bf-d98f-4c15-f1a5-8a77a774ce39"
      },
      "execution_count": 91,
      "outputs": [
        {
          "output_type": "stream",
          "name": "stdout",
          "text": [
            "Naive Bayes Accuracy: 0.9883408071748879\n",
            "              precision    recall  f1-score   support\n",
            "\n",
            "           0       0.99      1.00      0.99       976\n",
            "           1       0.98      0.93      0.95       139\n",
            "\n",
            "    accuracy                           0.99      1115\n",
            "   macro avg       0.98      0.96      0.97      1115\n",
            "weighted avg       0.99      0.99      0.99      1115\n",
            "\n"
          ]
        }
      ]
    },
    {
      "cell_type": "code",
      "source": [
        "from sklearn.model_selection import learning_curve\n",
        "import numpy as np\n",
        "import matplotlib.pyplot as plt\n",
        "\n",
        "# Xác định các kích thước tập huấn luyện\n",
        "train_sizes = np.linspace(0.1, 1.0, 10)\n",
        "\n",
        "# Tính toán dữ liệu learning curve\n",
        "train_sizes, train_scores, val_scores = learning_curve(\n",
        "    nb_model_1, X_train_1, y_train_1, train_sizes=train_sizes, cv=5, scoring='f1'\n",
        ")\n",
        "\n",
        "# Tính giá trị trung bình và độ lệch chuẩn\n",
        "train_scores_mean = np.mean(train_scores, axis=1)\n",
        "train_scores_std = np.std(train_scores, axis=1)\n",
        "val_scores_mean = np.mean(val_scores, axis=1)\n",
        "val_scores_std = np.std(val_scores, axis=1)\n",
        "\n",
        "# Vẽ biểu đồ learning curve\n",
        "plt.figure()\n",
        "plt.title('Learning Curve for TF-IDF + Heuristics')\n",
        "plt.xlabel('Number of Training Examples')\n",
        "plt.ylabel('F1-score')\n",
        "plt.grid()\n",
        "\n",
        "plt.fill_between(train_sizes, train_scores_mean - train_scores_std,\n",
        "                 train_scores_mean + train_scores_std, alpha=0.1, color=\"r\")\n",
        "plt.fill_between(train_sizes, val_scores_mean - val_scores_std,\n",
        "                 val_scores_mean + val_scores_std, alpha=0.1, color=\"g\")\n",
        "plt.plot(train_sizes, train_scores_mean, 'o-', color=\"r\", label=\"Training score\")\n",
        "plt.plot(train_sizes, val_scores_mean, 'o-', color=\"g\", label=\"Cross-validation score\")\n",
        "\n",
        "plt.legend(loc=\"best\")\n",
        "plt.show()"
      ],
      "metadata": {
        "colab": {
          "base_uri": "https://localhost:8080/",
          "height": 472
        },
        "id": "tpwjh1V2zRdk",
        "outputId": "27da8f77-0c78-4975-a429-986c1e50f12b"
      },
      "execution_count": 93,
      "outputs": [
        {
          "output_type": "display_data",
          "data": {
            "text/plain": [
              "<Figure size 640x480 with 1 Axes>"
            ],
            "image/png": "[encoded data removed]"
          },
          "metadata": {}
        }
      ]
    },
    {
      "cell_type": "markdown",
      "source": [
        "#2. Cài đặt thuật toán NB chạy với dữ liệu đầu vào là **String**\n",
        "\n",
        "> Add blockquote\n",
        "\n"
      ],
      "metadata": {
        "id": "DhfT0fxvaoWS"
      }
    },
    {
      "cell_type": "code",
      "source": [
        "#Tiền xử lí lại dữ liệu cho model\n",
        "lemmatizer = WordNetLemmatizer()\n",
        "stop_words = set(stopwords.words('english'))\n",
        "\n",
        "def advanced_text_cleaning(text, stop_words=None):\n",
        "    if pd.isna(text):\n",
        "        return \"\"\n",
        "\n",
        "    text = str(text).lower()\n",
        "    # 1. URL, Email, Phone, Money\n",
        "    text = re.sub(r'http\\S+|www\\.\\S+', ' URL ', text)\n",
        "    text = re.sub(r'\\S+@\\S+', ' EMAIL ', text)\n",
        "    text = re.sub(r'\\b\\d{9,}\\b', ' PHONE ', text)  # Số >=10 chữ số = phone\n",
        "    text = re.sub(r'\\$\\d+(?:\\.\\d{2})?', ' MONEY ', text)\n",
        "\n",
        "    # 2. Xử lí ký tự lặp (aaa, !!!)\n",
        "    text = re.sub(r'(.)\\1{2,}', r'\\1\\1', text)\n",
        "\n",
        "    # 3. Loại dấu câu (trừ ! ?)\n",
        "    #text = re.sub(f\"[{string.punctuation.replace('!', '').replace('?', '')}]\", \" \", text)\n",
        "\n",
        "    # 4. ! và ? → token\n",
        "    text = re.sub(r'!+', ' EXCLAMATION ', text)\n",
        "    text = re.sub(r'\\?+', ' QUESTION ', text)\n",
        "\n",
        "    # 5. Chuẩn hóa khoảng trắng\n",
        "    text = re.sub(r'\\s+', ' ', text).strip()\n",
        "\n",
        "    # 6. Lemmatize + Bỏ stopwords\n",
        "    words = text.split()\n",
        "    cleaned_words = []\n",
        "    for word in words:\n",
        "        if len(word) > 1 and (stop_words is None or word not in stop_words):\n",
        "            cleaned_words.append(lemmatizer.lemmatize(word))\n",
        "    return \" \".join(cleaned_words)\n",
        "df['clean_message'] = df['message'].apply(lambda x: advanced_text_cleaning(x, stop_words=stop_words))"
      ],
      "metadata": {
        "id": "qKl-DfdDaw6j"
      },
      "execution_count": 60,
      "outputs": []
    },
    {
      "cell_type": "code",
      "source": [
        "# Custom Multinomial Naive Bayes implementation\n",
        "# Thuật toán chạy với String\n",
        "class CustomNaiveBayes:\n",
        "    def __init__(self, alpha=1.0):\n",
        "        self.alpha = alpha  # Laplace smoothing parameter\n",
        "        self.class_priors = {}\n",
        "        self.word_probs = {}  # P(word | class)\n",
        "        self.vocab = set()\n",
        "\n",
        "        self.total_spam_words = 0\n",
        "        self.total_ham_words = 0\n",
        "        self.vocab_size = 0\n",
        "\n",
        "    def fit(self, X, y):\n",
        "        # X: list of cleaned messages, y: list of labels\n",
        "        #X = df['clean_message'].tolist()\n",
        "        #y = df['label'].tolist()\n",
        "\n",
        "        # Tính số lượng mẫu cho mỗi lớp\n",
        "        n_samples = len(y)\n",
        "        n_spam = sum(y)\n",
        "        n_ham = n_samples - n_spam\n",
        "        self.class_priors[1] = (n_spam + self.alpha) / (n_samples + 2 * self.alpha)  # P(spam)\n",
        "        self.class_priors[0] = (n_ham + self.alpha) / (n_samples + 2 * self.alpha)  # P(ham)\n",
        "\n",
        "        # Tính tần suất từ cho mỗi lớp\n",
        "        spam_words = Counter()\n",
        "        ham_words = Counter()\n",
        "        self.total_spam_words = 0\n",
        "        self.total_ham_words = 0\n",
        "\n",
        "        for message, label in zip(X, y):\n",
        "            words = message.split()\n",
        "            self.vocab.update(words)\n",
        "            if label == 1:  # Spam\n",
        "                spam_words.update(words)\n",
        "                self.total_spam_words += len(words)\n",
        "            else:  # Ham\n",
        "                ham_words.update(words)\n",
        "                self.total_ham_words += len(words)\n",
        "\n",
        "        # Tính xác suất có điều kiện với Laplace smoothing\n",
        "        self.vocab_size = len(self.vocab)\n",
        "\n",
        "        self.word_probs[1] = {word: (spam_words[word] + self.alpha) / (self.total_spam_words + self.vocab_size * self.alpha) for word in self.vocab}\n",
        "        self.word_probs[0] = {word: (ham_words[word] + self.alpha) / (self.total_ham_words + self.vocab_size * self.alpha) for word in self.vocab}\n",
        "\n",
        "    def predict(self, X):\n",
        "        predictions = []\n",
        "        for message in X:\n",
        "            words = message.split()\n",
        "            # Tính log-probability để tránh underflow\n",
        "            log_prob_spam = np.log(self.class_priors[1])\n",
        "            log_prob_ham = np.log(self.class_priors[0])\n",
        "\n",
        "            for word in words:\n",
        "                if word in self.vocab:\n",
        "                    log_prob_spam += np.log(self.word_probs[1].get(word, self.alpha / (self.total_spam_words + self.vocab_size * self.alpha)))\n",
        "                    log_prob_ham += np.log(self.word_probs[0].get(word, self.alpha / (self.total_ham_words + self.vocab_size * self.alpha)))\n",
        "\n",
        "            # Chọn lớp có log-probability cao hơn\n",
        "            predictions.append(1 if log_prob_spam > log_prob_ham else 0)\n",
        "        return np.array(predictions)\n",
        "    def score(self, X, y):\n",
        "        y_pred = self.predict(X)\n",
        "        return accuracy_score(y, y_pred)\n",
        "    def get_params(self, deep=True):\n",
        "        return {\"alpha\": self.alpha}\n",
        "    def set_params(self, **parameters):\n",
        "        for parameter, value in parameters.items():\n",
        "            setattr(self, parameter, value)\n",
        "        return self"
      ],
      "metadata": {
        "id": "OugjSXkabo-6"
      },
      "execution_count": 61,
      "outputs": []
    },
    {
      "cell_type": "code",
      "source": [
        "X_1 = df['clean_message'].tolist()\n",
        "y_1 = df['label'].tolist()\n",
        "df_preview = pd.DataFrame({'Text': X_1, 'Label': y_1})\n",
        "print(df_preview.head(10))  # Xem 10 dòng đầu"
      ],
      "metadata": {
        "id": "9VJ-wW35ccw9",
        "colab": {
          "base_uri": "https://localhost:8080/"
        },
        "outputId": "d1404a02-4623-4ff1-ff4f-8b0255aae1f0"
      },
      "execution_count": 62,
      "outputs": [
        {
          "output_type": "stream",
          "name": "stdout",
          "text": [
            "                                                Text  Label\n",
            "0  go jurong point, crazy.. available bugis great...      0\n",
            "1                          ok lar.. joking wif oni..      0\n",
            "2  free entry wkly comp win fa cup final tkts 21s...      1\n",
            "3                  dun say early hor.. already say..      0\n",
            "4               nah think go usf, life around though      0\n",
            "5  freemsg hey darling week's word back EXCLAMATI...      1\n",
            "6  even brother like speak me. treat like aid pat...      0\n",
            "7  per request 'melle melle (oru minnaminunginte ...      0\n",
            "8  winner EXCLAMATION valued network customer sel...      1\n",
            "9  mobile 11 month QUESTION entitled update lates...      1\n"
          ]
        }
      ]
    },
    {
      "cell_type": "code",
      "source": [
        "# Split dataset\n",
        "X_train, X_test, y_train, y_test = train_test_split(X_1, y_1, test_size=0.2, random_state=1)"
      ],
      "metadata": {
        "id": "Yf3JB1nmcket"
      },
      "execution_count": 63,
      "outputs": []
    },
    {
      "cell_type": "code",
      "source": [
        "# Train Naive Bayes model\n",
        "nb_model_2 = CustomNaiveBayes(alpha=1.0)\n",
        "nb_model_2.fit(X_train, y_train)"
      ],
      "metadata": {
        "id": "gBy3CRescq1K"
      },
      "execution_count": 64,
      "outputs": []
    },
    {
      "cell_type": "code",
      "source": [
        "#Tính toán các giá trị test\n",
        "Accuracy=accuracy_score(y_test, nb_model_2.predict(X_test))\n",
        "Precision=precision_score(y_test, nb_model_2.predict(X_test))\n",
        "Recall=recall_score(y_test, nb_model_2.predict(X_test))\n",
        "F1_Score=f1_score(y_test, nb_model_2.predict(X_test))\n",
        "print('Accuracy : {:.2f}%'.format(Accuracy*100))\n",
        "print('Precision : {:.2f}%' .format(Precision*100))\n",
        "print('Recall : {:.2f}%'.format(Recall*100))\n",
        "print('F1-Score : {:.2f}%'.format(F1_Score*100))"
      ],
      "metadata": {
        "colab": {
          "base_uri": "https://localhost:8080/"
        },
        "id": "EnY0fjGhcgAe",
        "outputId": "5f307029-5378-415c-8b63-21f31fa0d750"
      },
      "execution_count": 66,
      "outputs": [
        {
          "output_type": "stream",
          "name": "stdout",
          "text": [
            "Accuracy : 99.10%\n",
            "Precision : 98.50%\n",
            "Recall : 94.24%\n",
            "F1-Score : 96.32%\n"
          ]
        }
      ]
    },
    {
      "cell_type": "code",
      "source": [
        "#Tính toán confusion\n",
        "m_confusion_test = metrics.confusion_matrix(y_test, nb_model_2.predict(X_test))\n",
        "pd.DataFrame(data = m_confusion_test, columns = ['Dự Đoán (Ham)', 'Dự đoán (Spam)'],\n",
        "            index = ['Thực tế (Ham)', 'Thực tế (Spam)'])"
      ],
      "metadata": {
        "colab": {
          "base_uri": "https://localhost:8080/",
          "height": 112
        },
        "id": "3LOsIIg9dK6L",
        "outputId": "1f1f8edf-7ac2-4aab-94db-6709b1d79ccc"
      },
      "execution_count": 67,
      "outputs": [
        {
          "output_type": "execute_result",
          "data": {
            "text/plain": [
              "                Dự Đoán (Ham)  Dự đoán (Spam)\n",
              "Thực tế (Ham)             974               2\n",
              "Thực tế (Spam)              8             131"
            ],
            "text/html": [
              "\n",
              "  <div id=\"df-540d8fc8-e09f-43b4-8103-47fad6a9b930\" class=\"colab-df-container\">\n",
              "    <div>\n",
              "<style scoped>\n",
              "    .dataframe tbody tr th:only-of-type {\n",
              "        vertical-align: middle;\n",
              "    }\n",
              "\n",
              "    .dataframe tbody tr th {\n",
              "        vertical-align: top;\n",
              "    }\n",
              "\n",
              "    .dataframe thead th {\n",
              "        text-align: right;\n",
              "    }\n",
              "</style>\n",
              "<table border=\"1\" class=\"dataframe\">\n",
              "  <thead>\n",
              "    <tr style=\"text-align: right;\">\n",
              "      <th></th>\n",
              "      <th>Dự Đoán (Ham)</th>\n",
              "      <th>Dự đoán (Spam)</th>\n",
              "    </tr>\n",
              "  </thead>\n",
              "  <tbody>\n",
              "    <tr>\n",
              "      <th>Thực tế (Ham)</th>\n",
              "      <td>974</td>\n",
              "      <td>2</td>\n",
              "    </tr>\n",
              "    <tr>\n",
              "      <th>Thực tế (Spam)</th>\n",
              "      <td>8</td>\n",
              "      <td>131</td>\n",
              "    </tr>\n",
              "  </tbody>\n",
              "</table>\n",
              "</div>\n",
              "    <div class=\"colab-df-buttons\">\n",
              "\n",
              "  <div class=\"colab-df-container\">\n",
              "    <button class=\"colab-df-convert\" onclick=\"convertToInteractive('df-540d8fc8-e09f-43b4-8103-47fad6a9b930')\"\n",
              "            title=\"Convert this dataframe to an interactive table.\"\n",
              "            style=\"display:none;\">\n",
              "\n",
              "  <svg xmlns=\"http://www.w3.org/2000/svg\" height=\"24px\" viewBox=\"0 -960 960 960\">\n",
              "    <path d=\"M120-120v-720h720v720H120Zm60-500h600v-160H180v160Zm220 220h160v-160H400v160Zm0 220h160v-160H400v160ZM180-400h160v-160H180v160Zm440 0h160v-160H620v160ZM180-180h160v-160H180v160Zm440 0h160v-160H620v160Z\"/>\n",
              "  </svg>\n",
              "    </button>\n",
              "\n",
              "  <style>\n",
              "    .colab-df-container {\n",
              "      display:flex;\n",
              "      gap: 12px;\n",
              "    }\n",
              "\n",
              "    .colab-df-convert {\n",
              "      background-color: #E8F0FE;\n",
              "      border: none;\n",
              "      border-radius: 50%;\n",
              "      cursor: pointer;\n",
              "      display: none;\n",
              "      fill: #1967D2;\n",
              "      height: 32px;\n",
              "      padding: 0 0 0 0;\n",
              "      width: 32px;\n",
              "    }\n",
              "\n",
              "    .colab-df-convert:hover {\n",
              "      background-color: #E2EBFA;\n",
              "      box-shadow: 0px 1px 2px rgba(60, 64, 67, 0.3), 0px 1px 3px 1px rgba(60, 64, 67, 0.15);\n",
              "      fill: #174EA6;\n",
              "    }\n",
              "\n",
              "    .colab-df-buttons div {\n",
              "      margin-bottom: 4px;\n",
              "    }\n",
              "\n",
              "    [theme=dark] .colab-df-convert {\n",
              "      background-color: #3B4455;\n",
              "      fill: #D2E3FC;\n",
              "    }\n",
              "\n",
              "    [theme=dark] .colab-df-convert:hover {\n",
              "      background-color: #434B5C;\n",
              "      box-shadow: 0px 1px 3px 1px rgba(0, 0, 0, 0.15);\n",
              "      filter: drop-shadow(0px 1px 2px rgba(0, 0, 0, 0.3));\n",
              "      fill: #FFFFFF;\n",
              "    }\n",
              "  </style>\n",
              "\n",
              "    <script>\n",
              "      const buttonEl =\n",
              "        document.querySelector('#df-540d8fc8-e09f-43b4-8103-47fad6a9b930 button.colab-df-convert');\n",
              "      buttonEl.style.display =\n",
              "        google.colab.kernel.accessAllowed ? 'block' : 'none';\n",
              "\n",
              "      async function convertToInteractive(key) {\n",
              "        const element = document.querySelector('#df-540d8fc8-e09f-43b4-8103-47fad6a9b930');\n",
              "        const dataTable =\n",
              "          await google.colab.kernel.invokeFunction('convertToInteractive',\n",
              "                                                    [key], {});\n",
              "        if (!dataTable) return;\n",
              "\n",
              "        const docLinkHtml = 'Like what you see? Visit the ' +\n",
              "          '<a target=\"_blank\" href=https://colab.research.google.com/notebooks/data_table.ipynb>data table notebook</a>'\n",
              "          + ' to learn more about interactive tables.';\n",
              "        element.innerHTML = '';\n",
              "        dataTable['output_type'] = 'display_data';\n",
              "        await google.colab.output.renderOutput(dataTable, element);\n",
              "        const docLink = document.createElement('div');\n",
              "        docLink.innerHTML = docLinkHtml;\n",
              "        element.appendChild(docLink);\n",
              "      }\n",
              "    </script>\n",
              "  </div>\n",
              "\n",
              "\n",
              "    <div id=\"df-4d96da44-039d-43c5-83dc-7362f8aade42\">\n",
              "      <button class=\"colab-df-quickchart\" onclick=\"quickchart('df-4d96da44-039d-43c5-83dc-7362f8aade42')\"\n",
              "                title=\"Suggest charts\"\n",
              "                style=\"display:none;\">\n",
              "\n",
              "<svg xmlns=\"http://www.w3.org/2000/svg\" height=\"24px\"viewBox=\"0 0 24 24\"\n",
              "     width=\"24px\">\n",
              "    <g>\n",
              "        <path d=\"M19 3H5c-1.1 0-2 .9-2 2v14c0 1.1.9 2 2 2h14c1.1 0 2-.9 2-2V5c0-1.1-.9-2-2-2zM9 17H7v-7h2v7zm4 0h-2V7h2v10zm4 0h-2v-4h2v4z\"/>\n",
              "    </g>\n",
              "</svg>\n",
              "      </button>\n",
              "\n",
              "<style>\n",
              "  .colab-df-quickchart {\n",
              "      --bg-color: #E8F0FE;\n",
              "      --fill-color: #1967D2;\n",
              "      --hover-bg-color: #E2EBFA;\n",
              "      --hover-fill-color: #174EA6;\n",
              "      --disabled-fill-color: #AAA;\n",
              "      --disabled-bg-color: #DDD;\n",
              "  }\n",
              "\n",
              "  [theme=dark] .colab-df-quickchart {\n",
              "      --bg-color: #3B4455;\n",
              "      --fill-color: #D2E3FC;\n",
              "      --hover-bg-color: #434B5C;\n",
              "      --hover-fill-color: #FFFFFF;\n",
              "      --disabled-bg-color: #3B4455;\n",
              "      --disabled-fill-color: #666;\n",
              "  }\n",
              "\n",
              "  .colab-df-quickchart {\n",
              "    background-color: var(--bg-color);\n",
              "    border: none;\n",
              "    border-radius: 50%;\n",
              "    cursor: pointer;\n",
              "    display: none;\n",
              "    fill: var(--fill-color);\n",
              "    height: 32px;\n",
              "    padding: 0;\n",
              "    width: 32px;\n",
              "  }\n",
              "\n",
              "  .colab-df-quickchart:hover {\n",
              "    background-color: var(--hover-bg-color);\n",
              "    box-shadow: 0 1px 2px rgba(60, 64, 67, 0.3), 0 1px 3px 1px rgba(60, 64, 67, 0.15);\n",
              "    fill: var(--button-hover-fill-color);\n",
              "  }\n",
              "\n",
              "  .colab-df-quickchart-complete:disabled,\n",
              "  .colab-df-quickchart-complete:disabled:hover {\n",
              "    background-color: var(--disabled-bg-color);\n",
              "    fill: var(--disabled-fill-color);\n",
              "    box-shadow: none;\n",
              "  }\n",
              "\n",
              "  .colab-df-spinner {\n",
              "    border: 2px solid var(--fill-color);\n",
              "    border-color: transparent;\n",
              "    border-bottom-color: var(--fill-color);\n",
              "    animation:\n",
              "      spin 1s steps(1) infinite;\n",
              "  }\n",
              "\n",
              "  @keyframes spin {\n",
              "    0% {\n",
              "      border-color: transparent;\n",
              "      border-bottom-color: var(--fill-color);\n",
              "      border-left-color: var(--fill-color);\n",
              "    }\n",
              "    20% {\n",
              "      border-color: transparent;\n",
              "      border-left-color: var(--fill-color);\n",
              "      border-top-color: var(--fill-color);\n",
              "    }\n",
              "    30% {\n",
              "      border-color: transparent;\n",
              "      border-left-color: var(--fill-color);\n",
              "      border-top-color: var(--fill-color);\n",
              "      border-right-color: var(--fill-color);\n",
              "    }\n",
              "    40% {\n",
              "      border-color: transparent;\n",
              "      border-right-color: var(--fill-color);\n",
              "      border-top-color: var(--fill-color);\n",
              "    }\n",
              "    60% {\n",
              "      border-color: transparent;\n",
              "      border-right-color: var(--fill-color);\n",
              "    }\n",
              "    80% {\n",
              "      border-color: transparent;\n",
              "      border-right-color: var(--fill-color);\n",
              "      border-bottom-color: var(--fill-color);\n",
              "    }\n",
              "    90% {\n",
              "      border-color: transparent;\n",
              "      border-bottom-color: var(--fill-color);\n",
              "    }\n",
              "  }\n",
              "</style>\n",
              "\n",
              "      <script>\n",
              "        async function quickchart(key) {\n",
              "          const quickchartButtonEl =\n",
              "            document.querySelector('#' + key + ' button');\n",
              "          quickchartButtonEl.disabled = true;  // To prevent multiple clicks.\n",
              "          quickchartButtonEl.classList.add('colab-df-spinner');\n",
              "          try {\n",
              "            const charts = await google.colab.kernel.invokeFunction(\n",
              "                'suggestCharts', [key], {});\n",
              "          } catch (error) {\n",
              "            console.error('Error during call to suggestCharts:', error);\n",
              "          }\n",
              "          quickchartButtonEl.classList.remove('colab-df-spinner');\n",
              "          quickchartButtonEl.classList.add('colab-df-quickchart-complete');\n",
              "        }\n",
              "        (() => {\n",
              "          let quickchartButtonEl =\n",
              "            document.querySelector('#df-4d96da44-039d-43c5-83dc-7362f8aade42 button');\n",
              "          quickchartButtonEl.style.display =\n",
              "            google.colab.kernel.accessAllowed ? 'block' : 'none';\n",
              "        })();\n",
              "      </script>\n",
              "    </div>\n",
              "\n",
              "    </div>\n",
              "  </div>\n"
            ],
            "application/vnd.google.colaboratory.intrinsic+json": {
              "type": "dataframe",
              "summary": "{\n  \"name\": \"            index = ['Th\\u1ef1c t\\u1ebf (Ham)', 'Th\\u1ef1c t\\u1ebf (Spam)'])\",\n  \"rows\": 2,\n  \"fields\": [\n    {\n      \"column\": \"D\\u1ef1 \\u0110o\\u00e1n (Ham)\",\n      \"properties\": {\n        \"dtype\": \"number\",\n        \"std\": 683,\n        \"min\": 8,\n        \"max\": 974,\n        \"num_unique_values\": 2,\n        \"samples\": [\n          8,\n          974\n        ],\n        \"semantic_type\": \"\",\n        \"description\": \"\"\n      }\n    },\n    {\n      \"column\": \"D\\u1ef1 \\u0111o\\u00e1n (Spam)\",\n      \"properties\": {\n        \"dtype\": \"number\",\n        \"std\": 91,\n        \"min\": 2,\n        \"max\": 131,\n        \"num_unique_values\": 2,\n        \"samples\": [\n          131,\n          2\n        ],\n        \"semantic_type\": \"\",\n        \"description\": \"\"\n      }\n    }\n  ]\n}"
            }
          },
          "metadata": {},
          "execution_count": 67
        }
      ]
    },
    {
      "cell_type": "code",
      "source": [
        "# Predict with Naive Bayes\n",
        "y_pred_nb = nb_model_2.predict(X_test)\n",
        "print(\"Naive Bayes Accuracy:\", accuracy_score(y_test, y_pred_nb))\n",
        "print(classification_report(y_test, y_pred_nb))"
      ],
      "metadata": {
        "colab": {
          "base_uri": "https://localhost:8080/"
        },
        "id": "0nWi84RkfCCe",
        "outputId": "cb632f6d-1d22-46a7-efe3-84ec49d56845"
      },
      "execution_count": 68,
      "outputs": [
        {
          "output_type": "stream",
          "name": "stdout",
          "text": [
            "Naive Bayes Accuracy: 0.9910313901345291\n",
            "              precision    recall  f1-score   support\n",
            "\n",
            "           0       0.99      1.00      0.99       976\n",
            "           1       0.98      0.94      0.96       139\n",
            "\n",
            "    accuracy                           0.99      1115\n",
            "   macro avg       0.99      0.97      0.98      1115\n",
            "weighted avg       0.99      0.99      0.99      1115\n",
            "\n"
          ]
        }
      ]
    },
    {
      "cell_type": "code",
      "source": [
        "# Convert back to list for CustomNaiveBayes\n",
        "X_train_list = X_train\n",
        "X_test_list = X_test"
      ],
      "metadata": {
        "id": "Nz-t-zb8mRzv"
      },
      "execution_count": 69,
      "outputs": []
    },
    {
      "cell_type": "code",
      "source": [
        "# Định nghĩa range cho training size\n",
        "train_sizes = np.linspace(0.1, 1.0, 10)\n",
        "\n",
        "# Sử dụng learning curve cho SVM model\n",
        "train_sizes, train_scores, val_scores = learning_curve(nb_model_2, X_train_list, y_train, train_sizes=train_sizes, cv=5)\n",
        "\n",
        "# Tính giá trị trung bình và độ lệch cho training và validation scores\n",
        "train_scores_mean = np.mean(train_scores, axis=1)\n",
        "train_scores_std = np.std(train_scores, axis=1)\n",
        "val_scores_mean = np.mean(val_scores, axis=1)\n",
        "val_scores_std = np.std(val_scores, axis=1)\n",
        "\n",
        "# Vẽ curve\n",
        "plt.figure()\n",
        "plt.title('Learning Curve Naive Bayes for String')\n",
        "plt.ylabel(\"Accuracy\")\n",
        "plt.grid()\n",
        "plt.fill_between(train_sizes, train_scores_mean - train_scores_std,\n",
        "                 train_scores_mean + train_scores_std, alpha=0.1,\n",
        "                 color=\"r\")\n",
        "plt.fill_between(train_sizes, val_scores_mean - val_scores_std,\n",
        "                 val_scores_mean + val_scores_std, alpha=0.1, color=\"g\")\n",
        "plt.plot(train_sizes, train_scores_mean, 'o-', color=\"r\",\n",
        "         label=\"Training score\")\n",
        "plt.plot(train_sizes, val_scores_mean, 'o-', color=\"g\",\n",
        "         label=\"Cross-validation score\")\n",
        "plt.legend(loc=\"best\")\n",
        "plt.xlabel(\"Number of Training Samples\")\n",
        "plt.show()"
      ],
      "metadata": {
        "colab": {
          "base_uri": "https://localhost:8080/",
          "height": 472
        },
        "id": "GA4CpTEkmSrR",
        "outputId": "ef768a98-7ec1-47bc-a46d-e7520dc5b479"
      },
      "execution_count": 70,
      "outputs": [
        {
          "output_type": "display_data",
          "data": {
            "text/plain": [
              "<Figure size 640x480 with 1 Axes>"
            ],
            "image/png": "[encoded data removed]"
          },
          "metadata": {}
        }
      ]
    },
    {
      "cell_type": "markdown",
      "source": [
        "#3. DEMO"
      ],
      "metadata": {
        "id": "UwLNTol72L_Q"
      }
    },
    {
      "cell_type": "code",
      "source": [
        "def predict_message(message):\n",
        "    # Bước 1: Làm sạch tin nhắn\n",
        "    cleaned_message = advanced_text_cleaning(message, stop_words=stop_words)\n",
        "\n",
        "    # Bước 2: Vector hóa tin nhắn bằng CustomTfidfVectorizer\n",
        "    cleaned_message_vectorized = vectorizer.transform([cleaned_message])\n",
        "\n",
        "    # Bước 3: Tính các đặc trưng heuristic (has_url, has_phone, has_money)\n",
        "    url_pattern = re.compile(r'http\\S+|www\\.\\S+')\n",
        "    phone_pattern = re.compile(r'\\b\\d{9,}\\b')\n",
        "    money_pattern = re.compile(r'[\\$€₫¥£]')\n",
        "\n",
        "    has_url = int(bool(url_pattern.search(str(message))))\n",
        "    has_phone = int(bool(phone_pattern.search(str(message))))\n",
        "    has_money = int(bool(money_pattern.search(str(message))))\n",
        "\n",
        "    heuristic_features = np.array([has_url, has_phone, has_money]).reshape(1, -1)\n",
        "    heuristic_features_sparse = sparse.csr_matrix(heuristic_features)\n",
        "\n",
        "    # Bước 4: Ghép đặc trưng TF-IDF và heuristic thành ma trận giống X_features\n",
        "    X_new = sparse.hstack([cleaned_message_vectorized, heuristic_features_sparse])\n",
        "    # Naive Bayes with String\n",
        "    nb2_pred = nb_model_2.predict([cleaned_message])[0]\n",
        "    # TF-IDF + heuristics\n",
        "    nb1_pred = nb_model_1.predict(X_new)[0] # Removed .toarray()\n",
        "    # TF-IDF\n",
        "    nb_pred = nb_model.predict(cleaned_message_vectorized)[0] # Removed .toarray()\n",
        "    # Return results\n",
        "    print(f\"\\nMessage: {message}\")\n",
        "    print(f\"Naive Bayes for String Prediction: {'Spam' if nb2_pred == 1 else 'Ham'}\")\n",
        "    print(f\"Naive Bayes for TF-IDF Prediction: {'Spam' if nb_pred == 1 else 'Ham'}\") # Changed svm_pred to nb_pred\n",
        "    print(f\"Naive Bayes for TF-IDF + Heuristics Prediction: {'Spam' if nb1_pred == 1 else 'Ham'}\")\n",
        "\n",
        "while True:\n",
        "    user_input = input(\"\\nEnter a message to test (or 'exit' to stop): \")\n",
        "    if user_input.lower() == 'exit':\n",
        "        break\n",
        "    predict_message(user_input)"
      ],
      "metadata": {
        "id": "ay5FHl6-2J2r",
        "colab": {
          "base_uri": "https://localhost:8080/"
        },
        "outputId": "e86453e4-d4f2-477b-bdd8-594dd5711fa3"
      },
      "execution_count": 32,
      "outputs": [
        {
          "name": "stdout",
          "output_type": "stream",
          "text": [
            "\n",
            "Enter a message to test (or 'exit' to stop): exit\n"
          ]
        }
      ]
    }
  ],
  "metadata": {
    "colab": {
      "provenance": [],
      "include_colab_link": true
    },
    "kernelspec": {
      "display_name": "Python 3",
      "name": "python3"
    },
    "language_info": {
      "name": "python"
    }
  },
  "nbformat": 4,
  "nbformat_minor": 0
}